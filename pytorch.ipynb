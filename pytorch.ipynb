{
 "cells": [
  {
   "cell_type": "markdown",
   "metadata": {},
   "source": [
    "# Pytorch Tutorial"
   ]
  },
  {
   "cell_type": "markdown",
   "metadata": {},
   "source": [
    "Pytorch is a popular deep learning framework and it's easy to get started."
   ]
  },
  {
   "cell_type": "code",
   "execution_count": 14,
   "metadata": {},
   "outputs": [],
   "source": [
    "import torch\n",
    "import torch.nn as nn\n",
    "import torch.utils.data as data\n",
    "import torchvision\n",
    "import torchvision.transforms as transforms\n",
    "from tqdm import tqdm\n",
    "import time\n",
    "import torch.optim as optim\n",
    "from torch.autograd import Variable\n",
    "import cv2\n",
    "\n",
    "BATCH_SIZE = 128\n",
    "NUM_EPOCHS = 10"
   ]
  },
  {
   "cell_type": "markdown",
   "metadata": {},
   "source": [
    "First, we read the mnist data, preprocess them and encapsulate them into dataloader form."
   ]
  },
  {
   "cell_type": "code",
   "execution_count": 15,
   "metadata": {},
   "outputs": [],
   "source": [
    "# preprocessing\n",
    "normalize = transforms.Normalize(mean=[.5], std=[.5])\n",
    "transform = transforms.Compose([transforms.ToTensor(), normalize])\n",
    "\n",
    "# download and load the data\n",
    "train_dataset = torchvision.datasets.MNIST(root='./mnist/', train=True, transform=transform, download=True)\n",
    "test_dataset = torchvision.datasets.MNIST(root='./mnist/', train=False, transform=transform, download=False)\n",
    "\n",
    "# encapsulate them into dataloader form\n",
    "train_loader = data.DataLoader(train_dataset, batch_size=BATCH_SIZE, shuffle=True, drop_last=True)\n",
    "test_loader = data.DataLoader(test_dataset, batch_size=BATCH_SIZE, shuffle=False, drop_last=True)"
   ]
  },
  {
   "cell_type": "markdown",
   "metadata": {},
   "source": [
    "Then, we define the model, object function and optimizer that we use to classify."
   ]
  },
  {
   "cell_type": "code",
   "execution_count": 19,
   "metadata": {},
   "outputs": [],
   "source": [
    "class SimpleNet(nn.Module):\n",
    "# TODO:define model\n",
    "\n",
    "    def __init__(self):\n",
    "        super(SimpleNet,self).__init__()\n",
    "        self.conv1 = torch.nn.Sequential(\n",
    "            torch.nn.Conv2d(1,64,kernel_size=3,stride=1,padding=1),\n",
    "            torch.nn.ReLU(),\n",
    "            torch.nn.Conv2d(64,128,kernel_size=3,stride=1,padding=1),\n",
    "            torch.nn.ReLU(),\n",
    "            torch.nn.MaxPool2d(stride=2,kernel_size=2))\n",
    " \n",
    "        self.dense = torch.nn.Sequential(\n",
    "            torch.nn.Linear(14*14*128,1024),\n",
    "            torch.nn.ReLU(),\n",
    "            torch.nn.Dropout(p = 0.5),\n",
    "            torch.nn.Linear(1024,10)\n",
    "        )\n",
    " \n",
    "    def forward(self, x):\n",
    "        x = self.conv1(x)\n",
    "        x = x.view(-1,14*14*128)\n",
    "        x = self.dense(x)\n",
    "        return x\n",
    "\n",
    "# TODO:define loss function and optimiter\n",
    "model = SimpleNet()\n",
    "criterion = nn.CrossEntropyLoss()\n",
    "optimizer = torch.optim.Adam(model.parameters())"
   ]
  },
  {
   "cell_type": "markdown",
   "metadata": {},
   "source": [
    "Next, we can start to train and evaluate!"
   ]
  },
  {
   "cell_type": "code",
   "execution_count": 32,
   "metadata": {
    "scrolled": true
   },
   "outputs": [
    {
     "name": "stdout",
     "output_type": "stream",
     "text": [
      "Epoch  0/10\n",
      "----------\n",
      "Loss is 0.0001, Train Accuracy is:99.6667%,Test Accuracy is:99.2900%\n",
      "Epoch  1/10\n",
      "----------\n",
      "Loss is 0.0001, Train Accuracy is:99.6633%,Test Accuracy is:99.5200%\n",
      "Epoch  2/10\n",
      "----------\n",
      "Loss is 0.0001, Train Accuracy is:99.6950%,Test Accuracy is:99.6400%\n",
      "Epoch  3/10\n",
      "----------\n",
      "Loss is 0.0000, Train Accuracy is:99.7367%,Test Accuracy is:99.7400%\n",
      "Epoch  4/10\n",
      "----------\n",
      "Loss is 0.0000, Train Accuracy is:99.7350%,Test Accuracy is:99.7400%\n",
      "Epoch  5/10\n",
      "----------\n",
      "Loss is 0.0000, Train Accuracy is:99.7417%,Test Accuracy is:99.8000%\n",
      "Epoch  6/10\n",
      "----------\n",
      "Loss is 0.0000, Train Accuracy is:99.7717%,Test Accuracy is:99.8200%\n",
      "Epoch  7/10\n",
      "----------\n",
      "Loss is 0.0000, Train Accuracy is:99.7600%,Test Accuracy is:99.8000%\n",
      "Epoch  8/10\n",
      "----------\n",
      "Loss is 0.0000, Train Accuracy is:99.7933%,Test Accuracy is:99.8000%\n",
      "Epoch  9/10\n",
      "----------\n",
      "Loss is 0.0000, Train Accuracy is:99.8067%,Test Accuracy is:99.8400%\n"
     ]
    }
   ],
   "source": [
    "# train and evaluate\n",
    " \n",
    "for epoch in range(NUM_EPOCHS):\n",
    "    running_loss = 0.0\n",
    "    running_corrrect = 0\n",
    "    print(\"Epoch  {}/{}\".format(epoch, NUM_EPOCHS))\n",
    "    print(\"-\"*10)\n",
    "    for data in train_loader:\n",
    "        X_train , y_train = data\n",
    "        X_train,y_train = Variable(X_train),Variable(y_train)\n",
    "        outputs = model(X_train)\n",
    "        _,pred = torch.max(outputs.data,1)\n",
    "        optimizer.zero_grad()\n",
    "        loss = criterion(outputs,y_train)\n",
    " \n",
    "        loss.backward()\n",
    "        optimizer.step()\n",
    "        running_loss += loss\n",
    "        running_corrrect += torch.sum(pred == y_train.data)\n",
    "        \n",
    "    testing_correct = 0\n",
    "    testing_loss = 0.0\n",
    "    for data in test_loader:\n",
    "        X_test,y_test = data\n",
    "        X_test,y_test = Variable(X_test),Variable(y_test)\n",
    "        outputs = model(X_test)\n",
    "        _,pred = torch.max(outputs.data,1)\n",
    "        optimizer.zero_grad()\n",
    "        loss2 = criterion(outputs,y_test)\n",
    "        \n",
    "        loss2.backward()\n",
    "        optimizer.step()\n",
    "        testing_loss += loss2\n",
    "        testing_correct += torch.sum(pred == y_test.data)\n",
    " \n",
    "    print(\"Loss is {:.4f}, Train Accuracy is:{:.4f}%,Test Accuracy is:{:.4f}%\"\n",
    "          .format(running_loss/len(train_dataset),100*running_corrrect.item()/len(train_dataset),\n",
    "                  100*testing_correct.item()/len(test_dataset)))\n",
    "     \n"
   ]
  },
  {
   "cell_type": "markdown",
   "metadata": {},
   "source": [
    "#### Q5:\n",
    "Please print the training and testing accuracy."
   ]
  },
  {
   "cell_type": "code",
   "execution_count": null,
   "metadata": {},
   "outputs": [],
   "source": []
  }
 ],
 "metadata": {
  "kernelspec": {
   "display_name": "Python 3",
   "language": "python",
   "name": "python3"
  },
  "language_info": {
   "codemirror_mode": {
    "name": "ipython",
    "version": 3
   },
   "file_extension": ".py",
   "mimetype": "text/x-python",
   "name": "python",
   "nbconvert_exporter": "python",
   "pygments_lexer": "ipython3",
   "version": "3.6.5"
  }
 },
 "nbformat": 4,
 "nbformat_minor": 2
}
